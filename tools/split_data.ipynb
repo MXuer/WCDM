{
 "cells": [
  {
   "cell_type": "code",
   "execution_count": 22,
   "metadata": {},
   "outputs": [],
   "source": [
    "import h5py\n",
    "import numpy as np\n",
    "from tqdm import tqdm\n",
    "from pathlib import Path"
   ]
  },
  {
   "cell_type": "code",
   "execution_count": 45,
   "metadata": {},
   "outputs": [
    {
     "name": "stdout",
     "output_type": "stream",
     "text": [
      "../raw_dataV2/rician_channel/fraction_delay/SF16_train_uniform_dataSet_160Bit_HDF520250709_002000/mutiPath_train_data.h5\n"
     ]
    },
    {
     "name": "stderr",
     "output_type": "stream",
     "text": [
      "100%|██████████| 50000/50000 [07:43<00:00, 107.87it/s]\n"
     ]
    },
    {
     "name": "stdout",
     "output_type": "stream",
     "text": [
      "../raw_dataV2/rician_channel/fraction_delay/SF16_test_dataSet_160Bit_HDF520250708_092954/snr_-8dB/mutiPath_train_data.h5\n"
     ]
    },
    {
     "name": "stderr",
     "output_type": "stream",
     "text": [
      "100%|██████████| 3000/3000 [02:05<00:00, 23.86it/s]\n"
     ]
    },
    {
     "name": "stdout",
     "output_type": "stream",
     "text": [
      "../raw_dataV2/rician_channel/fraction_delay/SF16_test_dataSet_160Bit_HDF520250708_092954/snr_-16dB/mutiPath_train_data.h5\n"
     ]
    },
    {
     "name": "stderr",
     "output_type": "stream",
     "text": [
      "100%|██████████| 3000/3000 [00:12<00:00, 247.27it/s]\n"
     ]
    },
    {
     "name": "stdout",
     "output_type": "stream",
     "text": [
      "../raw_dataV2/rician_channel/fraction_delay/SF16_test_dataSet_160Bit_HDF520250708_092954/snr_-22dB/mutiPath_train_data.h5\n"
     ]
    },
    {
     "name": "stderr",
     "output_type": "stream",
     "text": [
      "100%|██████████| 3000/3000 [00:38<00:00, 78.20it/s]\n"
     ]
    },
    {
     "name": "stdout",
     "output_type": "stream",
     "text": [
      "../raw_dataV2/rician_channel/fraction_delay/SF16_test_dataSet_160Bit_HDF520250708_092954/snr_-18dB/mutiPath_train_data.h5\n"
     ]
    },
    {
     "name": "stderr",
     "output_type": "stream",
     "text": [
      "100%|██████████| 3000/3000 [01:01<00:00, 48.89it/s]\n"
     ]
    },
    {
     "name": "stdout",
     "output_type": "stream",
     "text": [
      "../raw_dataV2/rician_channel/fraction_delay/SF16_test_dataSet_160Bit_HDF520250708_092954/snr_-20dB/mutiPath_train_data.h5\n"
     ]
    },
    {
     "name": "stderr",
     "output_type": "stream",
     "text": [
      "100%|██████████| 3000/3000 [01:02<00:00, 47.76it/s]\n"
     ]
    },
    {
     "name": "stdout",
     "output_type": "stream",
     "text": [
      "../raw_dataV2/rician_channel/fraction_delay/SF16_test_dataSet_160Bit_HDF520250708_092954/snr_-14dB/mutiPath_train_data.h5\n"
     ]
    },
    {
     "name": "stderr",
     "output_type": "stream",
     "text": [
      "100%|██████████| 3000/3000 [01:19<00:00, 37.95it/s]\n"
     ]
    },
    {
     "name": "stdout",
     "output_type": "stream",
     "text": [
      "../raw_dataV2/rician_channel/fraction_delay/SF16_test_dataSet_160Bit_HDF520250708_092954/snr_-12dB/mutiPath_train_data.h5\n"
     ]
    },
    {
     "name": "stderr",
     "output_type": "stream",
     "text": [
      "100%|██████████| 3000/3000 [01:14<00:00, 40.35it/s]\n"
     ]
    },
    {
     "name": "stdout",
     "output_type": "stream",
     "text": [
      "../raw_dataV2/rician_channel/fraction_delay/SF16_test_dataSet_160Bit_HDF520250708_092954/snr_-10dB/mutiPath_train_data.h5\n"
     ]
    },
    {
     "name": "stderr",
     "output_type": "stream",
     "text": [
      "100%|██████████| 3000/3000 [01:15<00:00, 39.49it/s]\n"
     ]
    },
    {
     "name": "stdout",
     "output_type": "stream",
     "text": [
      "../raw_dataV2/rician_channel/fraction_delay/SF16_test_dataSet_160Bit_HDF520250708_092954/snr_-4dB/mutiPath_train_data.h5\n"
     ]
    },
    {
     "name": "stderr",
     "output_type": "stream",
     "text": [
      "100%|██████████| 3000/3000 [01:17<00:00, 38.54it/s]\n"
     ]
    },
    {
     "name": "stdout",
     "output_type": "stream",
     "text": [
      "../raw_dataV2/rician_channel/fraction_delay/SF16_test_dataSet_160Bit_HDF520250708_092954/snr_-6dB/mutiPath_train_data.h5\n"
     ]
    },
    {
     "name": "stderr",
     "output_type": "stream",
     "text": [
      "100%|██████████| 3000/3000 [01:17<00:00, 38.68it/s]\n"
     ]
    },
    {
     "name": "stdout",
     "output_type": "stream",
     "text": [
      "../raw_dataV2/rician_channel/fraction_delay/SF16_test_dataSet_160Bit_HDF520250708_092954/snr_-2dB/mutiPath_train_data.h5\n"
     ]
    },
    {
     "name": "stderr",
     "output_type": "stream",
     "text": [
      "100%|██████████| 3000/3000 [01:18<00:00, 38.40it/s]\n"
     ]
    },
    {
     "name": "stdout",
     "output_type": "stream",
     "text": [
      "../raw_dataV2/rician_channel/integer_delay/SF16_train_uniform_dataSet_160Bit_HDF520250709_124842/mutiPath_train_data.h5\n"
     ]
    },
    {
     "name": "stderr",
     "output_type": "stream",
     "text": [
      "100%|██████████| 50000/50000 [22:40<00:00, 36.75it/s]\n"
     ]
    },
    {
     "name": "stdout",
     "output_type": "stream",
     "text": [
      "../raw_dataV2/rician_channel/integer_delay/SF16_test_dataSet_160Bit_HDF520250709_125145/snr_-8dB/mutiPath_train_data.h5\n"
     ]
    },
    {
     "name": "stderr",
     "output_type": "stream",
     "text": [
      "100%|██████████| 3000/3000 [00:31<00:00, 95.33it/s] \n"
     ]
    },
    {
     "name": "stdout",
     "output_type": "stream",
     "text": [
      "../raw_dataV2/rician_channel/integer_delay/SF16_test_dataSet_160Bit_HDF520250709_125145/snr_-16dB/mutiPath_train_data.h5\n"
     ]
    },
    {
     "name": "stderr",
     "output_type": "stream",
     "text": [
      "100%|██████████| 3000/3000 [01:14<00:00, 40.53it/s]\n"
     ]
    },
    {
     "name": "stdout",
     "output_type": "stream",
     "text": [
      "../raw_dataV2/rician_channel/integer_delay/SF16_test_dataSet_160Bit_HDF520250709_125145/snr_-22dB/mutiPath_train_data.h5\n"
     ]
    },
    {
     "name": "stderr",
     "output_type": "stream",
     "text": [
      "100%|██████████| 3000/3000 [01:14<00:00, 40.32it/s]\n"
     ]
    },
    {
     "name": "stdout",
     "output_type": "stream",
     "text": [
      "../raw_dataV2/rician_channel/integer_delay/SF16_test_dataSet_160Bit_HDF520250709_125145/snr_-18dB/mutiPath_train_data.h5\n"
     ]
    },
    {
     "name": "stderr",
     "output_type": "stream",
     "text": [
      "100%|██████████| 3000/3000 [01:13<00:00, 40.92it/s]\n"
     ]
    },
    {
     "name": "stdout",
     "output_type": "stream",
     "text": [
      "../raw_dataV2/rician_channel/integer_delay/SF16_test_dataSet_160Bit_HDF520250709_125145/snr_-20dB/mutiPath_train_data.h5\n"
     ]
    },
    {
     "name": "stderr",
     "output_type": "stream",
     "text": [
      "100%|██████████| 3000/3000 [01:14<00:00, 40.46it/s]\n"
     ]
    },
    {
     "name": "stdout",
     "output_type": "stream",
     "text": [
      "../raw_dataV2/rician_channel/integer_delay/SF16_test_dataSet_160Bit_HDF520250709_125145/snr_-14dB/mutiPath_train_data.h5\n"
     ]
    },
    {
     "name": "stderr",
     "output_type": "stream",
     "text": [
      "100%|██████████| 3000/3000 [01:13<00:00, 40.90it/s]\n"
     ]
    },
    {
     "name": "stdout",
     "output_type": "stream",
     "text": [
      "../raw_dataV2/rician_channel/integer_delay/SF16_test_dataSet_160Bit_HDF520250709_125145/snr_-12dB/mutiPath_train_data.h5\n"
     ]
    },
    {
     "name": "stderr",
     "output_type": "stream",
     "text": [
      "100%|██████████| 3000/3000 [01:14<00:00, 40.16it/s]\n"
     ]
    },
    {
     "name": "stdout",
     "output_type": "stream",
     "text": [
      "../raw_dataV2/rician_channel/integer_delay/SF16_test_dataSet_160Bit_HDF520250709_125145/snr_-10dB/mutiPath_train_data.h5\n"
     ]
    },
    {
     "name": "stderr",
     "output_type": "stream",
     "text": [
      "100%|██████████| 3000/3000 [01:14<00:00, 40.53it/s]\n"
     ]
    },
    {
     "name": "stdout",
     "output_type": "stream",
     "text": [
      "../raw_dataV2/rician_channel/integer_delay/SF16_test_dataSet_160Bit_HDF520250709_125145/snr_-4dB/mutiPath_train_data.h5\n"
     ]
    },
    {
     "name": "stderr",
     "output_type": "stream",
     "text": [
      "100%|██████████| 3000/3000 [01:15<00:00, 39.52it/s]\n"
     ]
    },
    {
     "name": "stdout",
     "output_type": "stream",
     "text": [
      "../raw_dataV2/rician_channel/integer_delay/SF16_test_dataSet_160Bit_HDF520250709_125145/snr_-6dB/mutiPath_train_data.h5\n"
     ]
    },
    {
     "name": "stderr",
     "output_type": "stream",
     "text": [
      "100%|██████████| 3000/3000 [01:17<00:00, 38.62it/s]\n"
     ]
    },
    {
     "name": "stdout",
     "output_type": "stream",
     "text": [
      "../raw_dataV2/rician_channel/integer_delay/SF16_test_dataSet_160Bit_HDF520250709_125145/snr_-2dB/mutiPath_train_data.h5\n"
     ]
    },
    {
     "name": "stderr",
     "output_type": "stream",
     "text": [
      "100%|██████████| 3000/3000 [01:17<00:00, 38.50it/s]\n"
     ]
    }
   ],
   "source": [
    "\n",
    "screamble_data_file = \"/data/duhu/WCDM/raw_dataV2/rician_channel/screamble/spreading_screamble_uprate_for_data.h5\"\n",
    "screamble_pilot_file = \"/data/duhu/WCDM/raw_dataV2/rician_channel/screamble/spreading_screamble_uprate_for_pilot.h5\"\n",
    "\n",
    "\n",
    "with h5py.File(screamble_data_file, 'r') as f:\n",
    "    signal = np.array(f['signal']).T\n",
    "    screamble_data = np.broadcast_to(signal[..., np.newaxis], (2, 10240, 3))\n",
    "    \n",
    "with h5py.File(screamble_pilot_file, 'r') as f:\n",
    "    signal = np.array(f['signal']).T\n",
    "    screamble_pilot = np.broadcast_to(signal[..., np.newaxis], (2, 10240, 3))\n",
    "\n",
    "for input_file in list(Path('../raw_dataV2/').rglob('mutiPath_train_data.h5')):\n",
    "    print(input_file)\n",
    "    whole = {}\n",
    "    exp_dir = Path('../data_stages') / str(input_file.parent).replace('../raw_dataV2/', '')\n",
    "    exp_dir.mkdir(parents=True, exist_ok=True)\n",
    "\n",
    "    with h5py.File(input_file, 'r') as f:\n",
    "        for each in f:\n",
    "            whole[each] = np.array(f[each]).T\n",
    "    output_file = input_file.parent / 'frame_verify_data.h5'\n",
    "\n",
    "    with h5py.File(output_file, 'r') as f:\n",
    "        for each in f:\n",
    "            whole[each] = np.array(f[each]).T\n",
    "            \n",
    "    nums = whole['channel_estimates'].shape[0]\n",
    "\n",
    "    for index in tqdm(range(nums)):\n",
    "        with h5py.File(exp_dir / f'{index}.h5', 'w') as f:\n",
    "            for each in whole:\n",
    "                if whole[each].shape[0] == nums:\n",
    "                    data = whole[each][index]\n",
    "                    if each == 'receive_signal':\n",
    "                        receive_signal_data = np.concatenate((data, screamble_data), axis=0)\n",
    "                        receive_signal_pilot = np.concatenate((data, screamble_pilot), axis=0)\n",
    "                        f.create_dataset('receive_signal_data', data=receive_signal_data.T)\n",
    "                        f.create_dataset('receive_signal_pilot', data=receive_signal_pilot.T)\n",
    "                    f.create_dataset(each, data=data)\n",
    "                else:\n",
    "                    f.create_dataset(each, data=whole[each])\n",
    "    \n"
   ]
  },
  {
   "cell_type": "code",
   "execution_count": null,
   "metadata": {},
   "outputs": [],
   "source": [
    "\"\"\"\n",
    "channel_estimates (3, 2, 3000)\n",
    "finger_data_channel_signal (160, 3, 2, 3000)\n",
    "path_gain (3, 2, 3000)\n",
    "rake_output (160, 3000)\n",
    "receive_signal (3, 10240, 2, 3000) # \n",
    "\"\"\""
   ]
  },
  {
   "cell_type": "code",
   "execution_count": 46,
   "metadata": {},
   "outputs": [
    {
     "name": "stdout",
     "output_type": "stream",
     "text": [
      "channel_estimates (3, 2)\n",
      "finger_data_channel_signal (160, 3, 2)\n",
      "original_bit (160,)\n",
      "path_gain (3, 2)\n",
      "rake_output (160,)\n",
      "receive_signal (3, 10240, 2)\n",
      "receive_signal_data (4, 10240, 3)\n",
      "receive_signal_pilot (4, 10240, 3)\n"
     ]
    }
   ],
   "source": [
    "with h5py.File('/data/duhu/WCDM/data_stages/rician_channel/fraction_delay/SF16_test_dataSet_160Bit_HDF520250708_092954/snr_-8dB/0.h5', 'r') as f:\n",
    "    for each in f:\n",
    "        print(each, np.array(f[each]).T.shape)"
   ]
  },
  {
   "cell_type": "code",
   "execution_count": null,
   "metadata": {},
   "outputs": [],
   "source": []
  }
 ],
 "metadata": {
  "kernelspec": {
   "display_name": "base",
   "language": "python",
   "name": "python3"
  },
  "language_info": {
   "codemirror_mode": {
    "name": "ipython",
    "version": 3
   },
   "file_extension": ".py",
   "mimetype": "text/x-python",
   "name": "python",
   "nbconvert_exporter": "python",
   "pygments_lexer": "ipython3",
   "version": "3.12.4"
  }
 },
 "nbformat": 4,
 "nbformat_minor": 2
}
